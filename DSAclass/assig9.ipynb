{
 "cells": [
  {
   "cell_type": "code",
   "execution_count": 7,
   "id": "2a133c2c",
   "metadata": {},
   "outputs": [],
   "source": [
    "def naive_string_matcher(text:str,pattern:str):\n",
    "    n=len(text)\n",
    "    m=len(pattern)\n",
    "    \n",
    "    found_indices=[]\n",
    "    if n==0 or m==0 or m>n:\n",
    "        return found_indices\n",
    "    \n",
    "    for i in range(n-m+1):\n",
    "        is_match=True\n",
    "        for j in range(m):\n",
    "            if text[i+j]!=pattern[j]:\n",
    "                is_match=False\n",
    "                break\n",
    "        if is_match==True:\n",
    "            found_indices.append(i)\n",
    "\n",
    "    return found_indices\n",
    "  \n",
    "   "
   ]
  },
  {
   "cell_type": "code",
   "execution_count": 8,
   "id": "c123ec29",
   "metadata": {},
   "outputs": [
    {
     "name": "stdout",
     "output_type": "stream",
     "text": [
      "Found indices:  [4, 10, 25]\n"
     ]
    }
   ],
   "source": [
    "text1=\"the are aware about software\"\n",
    "pattern1=\"are\"\n",
    "result1=naive_string_matcher(text1,pattern1)\n",
    "print(\"Found indices: \" , result1)"
   ]
  },
  {
   "cell_type": "code",
   "execution_count": 9,
   "id": "160cc8c0",
   "metadata": {},
   "outputs": [
    {
     "name": "stdout",
     "output_type": "stream",
     "text": [
      "4\n"
     ]
    }
   ],
   "source": [
    "print(text1.find(pattern1))"
   ]
  },
  {
   "cell_type": "code",
   "execution_count": 10,
   "id": "dd6dd9c1",
   "metadata": {},
   "outputs": [
    {
     "name": "stdout",
     "output_type": "stream",
     "text": [
      "Found indices:  []\n"
     ]
    }
   ],
   "source": [
    "text2=\"the\"\n",
    "pattern2=\"\"\n",
    "result2=naive_string_matcher(text2,pattern2)\n",
    "print(\"Found indices: \" , result2)"
   ]
  },
  {
   "cell_type": "code",
   "execution_count": 11,
   "id": "86184484",
   "metadata": {},
   "outputs": [
    {
     "name": "stdout",
     "output_type": "stream",
     "text": [
      "Found indices:  [9]\n"
     ]
    }
   ],
   "source": [
    "text3=\"मेरा नाम आयुष कुमार है।\"\n",
    "pattern3=\"आयुष\"\n",
    "result3=naive_string_matcher(text3,pattern3)\n",
    "print(\"Found indices: \" , result3)"
   ]
  },
  {
   "cell_type": "code",
   "execution_count": null,
   "id": "2589002a",
   "metadata": {},
   "outputs": [],
   "source": []
  },
  {
   "cell_type": "code",
   "execution_count": null,
   "id": "ead43375",
   "metadata": {},
   "outputs": [],
   "source": []
  },
  {
   "cell_type": "code",
   "execution_count": null,
   "id": "c954075d",
   "metadata": {},
   "outputs": [],
   "source": []
  },
  {
   "cell_type": "code",
   "execution_count": null,
   "id": "b6a51974",
   "metadata": {},
   "outputs": [],
   "source": []
  },
  {
   "cell_type": "code",
   "execution_count": null,
   "id": "0c20c89e",
   "metadata": {},
   "outputs": [],
   "source": []
  },
  {
   "cell_type": "code",
   "execution_count": null,
   "id": "8d3f0231",
   "metadata": {},
   "outputs": [],
   "source": []
  },
  {
   "cell_type": "code",
   "execution_count": null,
   "id": "a03734bc",
   "metadata": {},
   "outputs": [],
   "source": []
  },
  {
   "cell_type": "code",
   "execution_count": null,
   "id": "1389db6c",
   "metadata": {},
   "outputs": [],
   "source": []
  },
  {
   "cell_type": "code",
   "execution_count": null,
   "id": "e4c76979",
   "metadata": {},
   "outputs": [],
   "source": []
  },
  {
   "cell_type": "code",
   "execution_count": null,
   "id": "6dd8d1b5",
   "metadata": {},
   "outputs": [],
   "source": []
  },
  {
   "cell_type": "code",
   "execution_count": null,
   "id": "aa882ac2",
   "metadata": {},
   "outputs": [],
   "source": []
  }
 ],
 "metadata": {
  "kernelspec": {
   "display_name": "Python 3",
   "language": "python",
   "name": "python3"
  },
  "language_info": {
   "codemirror_mode": {
    "name": "ipython",
    "version": 3
   },
   "file_extension": ".py",
   "mimetype": "text/x-python",
   "name": "python",
   "nbconvert_exporter": "python",
   "pygments_lexer": "ipython3",
   "version": "3.12.6"
  }
 },
 "nbformat": 4,
 "nbformat_minor": 5
}
